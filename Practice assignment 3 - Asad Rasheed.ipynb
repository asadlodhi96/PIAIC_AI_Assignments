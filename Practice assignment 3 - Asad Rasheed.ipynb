{
 "cells": [
  {
   "cell_type": "markdown",
   "metadata": {},
   "source": [
    "# Q1:"
   ]
  },
  {
   "cell_type": "markdown",
   "metadata": {},
   "source": [
    "Think of at least three kinds of your favorite pizza. Store these pizza names in a list, and then use a for loop to print the name of each pizza."
   ]
  },
  {
   "cell_type": "code",
   "execution_count": 1,
   "metadata": {},
   "outputs": [
    {
     "name": "stdout",
     "output_type": "stream",
     "text": [
      "Fajita\n",
      "Cheesy Max\n",
      "Chicken Supreme\n"
     ]
    }
   ],
   "source": [
    "pizzas = ['Fajita','Cheesy Max','Chicken Supreme']\n",
    "for pizza in pizzas:\n",
    "    print(pizza)"
   ]
  },
  {
   "cell_type": "markdown",
   "metadata": {},
   "source": [
    "# Q2"
   ]
  },
  {
   "cell_type": "markdown",
   "metadata": {},
   "source": [
    "Start with your last question , Modify your for loop to print a sentence using the name of the pizza\n",
    "instead of printing just the name of the pizza. For each pizza you should\n",
    "have one line of output containing a simple statement like I like pepperoni\n",
    "pizza."
   ]
  },
  {
   "cell_type": "code",
   "execution_count": 2,
   "metadata": {},
   "outputs": [
    {
     "name": "stdout",
     "output_type": "stream",
     "text": [
      "I Like Fajita Pizza\n",
      "I Like Cheesy Max Pizza\n",
      "I Like Chicken Supreme Pizza\n"
     ]
    }
   ],
   "source": [
    "#List Pizzas is declared in above example so no need to declare again.\n",
    "for pizza in pizzas:\n",
    "    print(f\"I Like {pizza} Pizza\")"
   ]
  },
  {
   "cell_type": "markdown",
   "metadata": {},
   "source": [
    "# Q3:"
   ]
  },
  {
   "cell_type": "markdown",
   "metadata": {},
   "source": [
    "Use a for loop to print the numbers from 1 to 20,\n",
    "inclusive."
   ]
  },
  {
   "cell_type": "code",
   "execution_count": 3,
   "metadata": {},
   "outputs": [
    {
     "name": "stdout",
     "output_type": "stream",
     "text": [
      "1\n",
      "2\n",
      "3\n",
      "4\n",
      "5\n",
      "6\n",
      "7\n",
      "8\n",
      "9\n",
      "10\n",
      "11\n",
      "12\n",
      "13\n",
      "14\n",
      "15\n",
      "16\n",
      "17\n",
      "18\n",
      "19\n",
      "20\n"
     ]
    }
   ],
   "source": [
    "for number in range(1,21):\n",
    "    print(number)"
   ]
  },
  {
   "cell_type": "markdown",
   "metadata": {},
   "source": [
    "# Q4:"
   ]
  },
  {
   "cell_type": "markdown",
   "metadata": {},
   "source": [
    "Use the third argument of the range() function to make a list\n",
    "of the odd numbers from 1 to 20. Use a for loop to print each number."
   ]
  },
  {
   "cell_type": "code",
   "execution_count": 4,
   "metadata": {},
   "outputs": [
    {
     "name": "stdout",
     "output_type": "stream",
     "text": [
      "1\n",
      "3\n",
      "5\n",
      "7\n",
      "9\n",
      "11\n",
      "13\n",
      "15\n",
      "17\n",
      "19\n"
     ]
    }
   ],
   "source": [
    "for odd_number in range(1,20,2):\n",
    "    print(odd_number)"
   ]
  },
  {
   "cell_type": "markdown",
   "metadata": {},
   "source": [
    "# Q5:"
   ]
  },
  {
   "cell_type": "markdown",
   "metadata": {},
   "source": [
    "Make a list of the multiples of 3 from 3 to 30. Use a for loop to\n",
    "print the numbers in your list."
   ]
  },
  {
   "cell_type": "code",
   "execution_count": 5,
   "metadata": {},
   "outputs": [
    {
     "name": "stdout",
     "output_type": "stream",
     "text": [
      "3\n",
      "6\n",
      "9\n",
      "12\n",
      "15\n",
      "18\n",
      "21\n",
      "24\n",
      "27\n",
      "30\n"
     ]
    }
   ],
   "source": [
    "Multiples_of_Three = [3,6,9,12,15,18,21,24,27,30]\n",
    "for number in Multiples_of_Three:\n",
    "    print(number)"
   ]
  },
  {
   "cell_type": "markdown",
   "metadata": {},
   "source": [
    "# Q6:"
   ]
  },
  {
   "cell_type": "markdown",
   "metadata": {},
   "source": [
    "A number raised to the third power is called a cube. For example,\n",
    "the cube of 2 is written as 2**3 in Python. Make a list of the first 10 cubes (that\n",
    "is, the cube of each integer from 1 through 10), and use a for loop to print out\n",
    "the value of each cube"
   ]
  },
  {
   "cell_type": "code",
   "execution_count": 6,
   "metadata": {},
   "outputs": [
    {
     "name": "stdout",
     "output_type": "stream",
     "text": [
      "1\n",
      "8\n",
      "27\n",
      "64\n",
      "125\n",
      "216\n",
      "343\n",
      "512\n",
      "729\n",
      "1000\n"
     ]
    }
   ],
   "source": [
    "cubes = [1**3 , 2**3 , 3**3 , 4**3 , 5**3 , 6**3 , 7**3 , 8**3 , 9**3 , 10**3]\n",
    "for cube in cubes:\n",
    "    print(cube)"
   ]
  },
  {
   "cell_type": "markdown",
   "metadata": {},
   "source": [
    "# Q7:"
   ]
  },
  {
   "cell_type": "markdown",
   "metadata": {},
   "source": [
    "###### Make a python program that conatains your nine favourite dishes in a list called foods.\n",
    "\n",
    "###### Print the message, The first three items in the list are:. \n",
    "###### Then use a slice to print the first three items from that program’s list.\n",
    "\n",
    "###### Print the message, Three items from the middle of the list are:\n",
    "###### Use a slice to print three items from the middle of the list.\n",
    "\n",
    "###### Print the message, The last three items in the list are:\n",
    "###### Use a slice to print the last three items in the list."
   ]
  },
  {
   "cell_type": "code",
   "execution_count": 7,
   "metadata": {},
   "outputs": [
    {
     "name": "stdout",
     "output_type": "stream",
     "text": [
      "The First three Items in the list are : ['Biryani', 'Pulao', 'Nihari']\n",
      "Three items from the middle of the list are : ['Qorma', 'Daal Fry', 'Haleem']\n",
      "The Last Three Items in the list are : ['Karahi', 'Shami kebab', 'Chicken Tikka']\n"
     ]
    }
   ],
   "source": [
    "fav_dishes = [\"Biryani\" , \"Pulao\" , \"Nihari\" , \"Qorma\" , \"Daal Fry\" , \"Haleem\" , \"Karahi\" , \"Shami kebab\" , \"Chicken Tikka\"]\n",
    "print(f\"The First three Items in the list are : {fav_dishes[0:3]}\")\n",
    "print(f\"Three items from the middle of the list are : {fav_dishes[3:6]}\")\n",
    "print(f\"The Last Three Items in the list are : {fav_dishes[6:9]}\")"
   ]
  },
  {
   "cell_type": "markdown",
   "metadata": {},
   "source": [
    "# Q8:"
   ]
  },
  {
   "cell_type": "markdown",
   "metadata": {},
   "source": [
    "### Start with your program from your last Question8.\n",
    "###### Make a copy of the list of foods, and call it friend_foods.\n",
    "###### Then, do the following:\n",
    "######    Add a new dish to the original list.\n",
    "######    Add a different dish to the list friend_foodss.\n",
    "######    Prove that you have two separate lists. \n",
    "###### Print the message, My favorite pizzas are: and then use a for loop to print the first list. \n",
    "###### Print the message,\n",
    "###### My friend’s favorite foods are:, and then use a for loop to print the second list.\n",
    "    \n",
    "##### NOTE: Make sure each new dish is stored in the appropriate list."
   ]
  },
  {
   "cell_type": "code",
   "execution_count": 8,
   "metadata": {},
   "outputs": [
    {
     "name": "stdout",
     "output_type": "stream",
     "text": [
      "['Biryani', 'Pulao', 'Nihari', 'Qorma', 'Daal Fry', 'Haleem', 'Karahi', 'Shami kebab', 'Chicken Tikka', 'Cheese Paratha']\n",
      "['Biryani', 'Pulao', 'Nihari', 'Qorma', 'Daal Fry', 'Haleem', 'Karahi', 'Shami kebab', 'Chicken Tikka', 'Alfredo Pasta']\n",
      "My Favorite Dishes are :\n",
      "Biryani\n",
      "Pulao\n",
      "Nihari\n",
      "Qorma\n",
      "Daal Fry\n",
      "Haleem\n",
      "Karahi\n",
      "Shami kebab\n",
      "Chicken Tikka\n",
      "Cheese Paratha\n",
      "\n",
      "My Friend's Favorite Dishes are :\n",
      "Biryani\n",
      "Pulao\n",
      "Nihari\n",
      "Qorma\n",
      "Daal Fry\n",
      "Haleem\n",
      "Karahi\n",
      "Shami kebab\n",
      "Chicken Tikka\n",
      "Alfredo Pasta\n"
     ]
    }
   ],
   "source": [
    "#List fav_dishes is declared in the last program so no need to declare that list again .\n",
    "friend_foods = fav_dishes.copy()\n",
    "fav_dishes.append(\"Cheese Paratha\")\n",
    "friend_foods.append(\"Alfredo Pasta\")\n",
    "print(fav_dishes)\n",
    "print(friend_foods)\n",
    "\n",
    "print(\"My Favorite Dishes are :\")\n",
    "for dish in fav_dishes:\n",
    "    print(dish)\n",
    "    \n",
    "print(\"\\nMy Friend's Favorite Dishes are :\")\n",
    "for dish in friend_foods:\n",
    "    print(dish)"
   ]
  },
  {
   "cell_type": "markdown",
   "metadata": {},
   "source": [
    "# Q9:"
   ]
  },
  {
   "cell_type": "markdown",
   "metadata": {},
   "source": [
    "Take a user input from console line.Store it in a variable called Alien_color.\n",
    "\n",
    "If the alien’s color is red, print a statement that the player just earned 5 points for shooting the alien.\n",
    "\n",
    "If the alien’s color isn’t green, print a statement that the player just earned 10 points.\n",
    "\n",
    "If the alien's color isn't red or green , print a statment :, Alien is no more....."
   ]
  },
  {
   "cell_type": "code",
   "execution_count": 16,
   "metadata": {},
   "outputs": [
    {
     "name": "stdout",
     "output_type": "stream",
     "text": [
      "Enter Color Name : blue\n",
      "Alien is no more ....\n"
     ]
    }
   ],
   "source": [
    "Alien_color = input(\"Enter Color Name : \").lower()\n",
    "if Alien_color == \"red\":\n",
    "    print(\"The Player just earned 5 points for shooting the alien\")\n",
    "elif Alien_color == \"green\":   #I changed condition from 'not equal to' To 'Equal to' because may be its a mistake\n",
    "    print(\"The Player just earned 10 points\")\n",
    "elif Alien_color != \"red\" or Alien_color != \"green\":\n",
    "    print(\"Alien is no more ....\")"
   ]
  },
  {
   "cell_type": "markdown",
   "metadata": {},
   "source": [
    "# Q10:"
   ]
  },
  {
   "cell_type": "markdown",
   "metadata": {},
   "source": [
    "Write an if-elif-else chain that determines a person’s\n",
    "stage of life. Set a value for the variable age, and then:\n",
    "    \n",
    "•\t If the person is less than 2 years old, print a message that the person is a baby.\n",
    "\n",
    "•\t If the person is at least 2 years old but less than 4, print a message that the person is a toddler.\n",
    "\n",
    "•\t If the person is at least 4 years old but less than 13, print a message that the person is a kid.\n",
    "\n",
    "•\t If the person is at least 13 years old but less than 20, print a message that the person is a teenager.\n",
    "\n",
    "•\t If the person is at least 20 years old but less than 65, print a message that the person is an adult.\n",
    "\n",
    "•\t If the person is age 65 or older, print a message that the person is an elder."
   ]
  },
  {
   "cell_type": "code",
   "execution_count": 19,
   "metadata": {},
   "outputs": [
    {
     "name": "stdout",
     "output_type": "stream",
     "text": [
      "Enter age of person please = 2\n",
      "The person is a toddler\n"
     ]
    }
   ],
   "source": [
    "age = int(input(\"Enter age of person please = \"))\n",
    "if age < 2:\n",
    "    print(\"The person is a baby \")\n",
    "elif age >=2 and age < 4:\n",
    "    print(\"The person is a toddler\")\n",
    "elif age >=4 and age < 13:\n",
    "    print(\"The person is a Kid\")\n",
    "elif age >=13 and age < 20:\n",
    "    print(\"The person is a Teenager\")\n",
    "elif age >=20 and age < 65:\n",
    "    print(\"The person is a Adult\")\n",
    "elif age >=65 :\n",
    "    print(\"The person is an Elder\")"
   ]
  },
  {
   "cell_type": "markdown",
   "metadata": {},
   "source": [
    "# Q11:"
   ]
  },
  {
   "cell_type": "markdown",
   "metadata": {},
   "source": [
    "Do the following to create a program that simulates how websites ensure that everyone has a unique username.\n",
    "\n",
    "•\t Make a list of five or more usernames called current_users.\n",
    "\n",
    "•\t Make another list of five usernames called new_users. \n",
    "Make sure one or two of the new usernames are also in the current_users list.\n",
    "\n",
    "•\t Loop through the new_users list to see if each new username has already been used. \n",
    "If it has, print a message that the person will need to enter a new username. \n",
    "If a username has not been used, print a message saying that the username is available.\n",
    "\n",
    "•\t Make sure your comparison is case insensitive. If 'John' has been used, 'JOHN' should not be accepted."
   ]
  },
  {
   "cell_type": "code",
   "execution_count": 28,
   "metadata": {},
   "outputs": [
    {
     "name": "stdout",
     "output_type": "stream",
     "text": [
      "The username aqib is Available\n",
      "The username mehmood is Available\n",
      "The username mohib is Available\n",
      "The username assad15 is already used by someOne please use another username\n",
      "The username moin66 is already used by someOne please use another username\n"
     ]
    }
   ],
   "source": [
    "current_users = ['assad15','moin66','jibran01','wasik12','zeb20']\n",
    "new_users = ['aqib','mehmood','mohib','assad15','moin66']\n",
    "flag = False\n",
    "\n",
    "for new_user in new_users:\n",
    "    for cur_user in current_users:\n",
    "        if cur_user.lower() == new_user.lower():\n",
    "            flag = True\n",
    "            temp_userName = cur_user\n",
    "            break\n",
    "    if flag :\n",
    "        print(f\"The username {temp_userName} is already used by someOne please use another username\")\n",
    "        flag == False\n",
    "    else:\n",
    "        print(f\"The username {new_user} is Available\")\n"
   ]
  },
  {
   "cell_type": "markdown",
   "metadata": {},
   "source": [
    "# Q12:"
   ]
  },
  {
   "cell_type": "markdown",
   "metadata": {},
   "source": [
    "Use a dictionary to store information about a person you know.\n",
    "Store their first name, last name, age, and the city in which they live. \n",
    "You should have keys such as first_name, last_name, age, and city. \n",
    "Print each piece of information stored in your dictionary"
   ]
  },
  {
   "cell_type": "code",
   "execution_count": 22,
   "metadata": {},
   "outputs": [
    {
     "name": "stdout",
     "output_type": "stream",
     "text": [
      "{'first_name': 'Assad', 'last_name': 'Lodhi', 'age': 20, 'city': 'Karachi'}\n"
     ]
    }
   ],
   "source": [
    "info = {\n",
    "    \"first_name\" : \"Assad\",\n",
    "    \"last_name\" : \"Lodhi\",\n",
    "    \"age\" : 20,\n",
    "    \"city\" : \"Karachi\"\n",
    "}\n",
    "print(info)"
   ]
  },
  {
   "cell_type": "markdown",
   "metadata": {},
   "source": [
    "# Q13:"
   ]
  },
  {
   "cell_type": "markdown",
   "metadata": {},
   "source": [
    "Starts with your last question 12 , loop through the dictionary’s keys and values.\n",
    "When you’re sure that your loop works, add five more Python terms to your\n",
    "dictionary . When you run your program again, these new words and meanings\n",
    "should automatically be included in the output."
   ]
  },
  {
   "cell_type": "code",
   "execution_count": 31,
   "metadata": {},
   "outputs": [
    {
     "name": "stdout",
     "output_type": "stream",
     "text": [
      "first_name = Assad\n",
      "last_name = Lodhi\n",
      "age = 20\n",
      "city = Karachi\n",
      "\n",
      "\n",
      "first_name = Assad\n",
      "last_name = Lodhi\n",
      "age = 20\n",
      "city = Karachi\n",
      "loop = Work through a collection of items in a paricular order\n",
      "list = A collection of items in a paricular order\n",
      "dictionary = A note in a program that python interpreter ignores\n",
      "key = The first item in a key-value pair in a dictionary\n",
      "value = An item associated with a key in a dictionary\n"
     ]
    }
   ],
   "source": [
    "info = {\n",
    "    \"first_name\" : \"Assad\",\n",
    "    \"last_name\" : \"Lodhi\",\n",
    "    \"age\" : 20,\n",
    "    \"city\" : \"Karachi\"\n",
    "}\n",
    "for k,v in info.items():\n",
    "    print(f\"{k} = {v}\")\n",
    "\n",
    "info['loop'] = 'Work through a collection of items in a paricular order'\n",
    "info['list'] = 'A collection of items in a paricular order'\n",
    "info['dictionary'] = 'A note in a program that python interpreter ignores'\n",
    "info['key'] = 'The first item in a key-value pair in a dictionary'\n",
    "info['value'] = 'An item associated with a key in a dictionary'\n",
    "print(\"\\n\")\n",
    "for k,v in info.items():\n",
    "    print(f\"{k} = {v}\")"
   ]
  },
  {
   "cell_type": "markdown",
   "metadata": {},
   "source": [
    "# Q14:"
   ]
  },
  {
   "cell_type": "markdown",
   "metadata": {},
   "source": [
    "Make a dictionary containing three major rivers and the country\n",
    "each river runs through. One key-value pair might be 'nile': 'egypt'.\n",
    "    \n",
    "    \n",
    "•\t Use a loop to print a sentence about each river, such as The Nile runs\n",
    "through Egypt.\n",
    "\n",
    "NOTE: use upper case through keys and values."
   ]
  },
  {
   "cell_type": "code",
   "execution_count": 32,
   "metadata": {},
   "outputs": [
    {
     "name": "stdout",
     "output_type": "stream",
     "text": [
      "The JHELUM runs through PAKISTAN\n",
      "The GANGAS runs through INDIA\n",
      "The YANGTZE runs through CHINA\n"
     ]
    }
   ],
   "source": [
    "rivers = {'Jhelum': 'Pakistan', 'Gangas': 'India', 'Yangtze': 'China'}\n",
    "for k,v in rivers.items():\n",
    "    print(f\"The {k.upper()} runs through {v.upper()}\")"
   ]
  },
  {
   "cell_type": "markdown",
   "metadata": {},
   "source": [
    "# Q15:"
   ]
  },
  {
   "cell_type": "markdown",
   "metadata": {},
   "source": [
    "Make several dictionaries, where the name of each dictionary is the\n",
    "name of a pet. In each dictionary, include the kind of animal and the owner’s\n",
    "name. Store these dictionaries in a list called pets. Next, loop through your list\n",
    "and as you do print everything you know about each pet."
   ]
  },
  {
   "cell_type": "code",
   "execution_count": 40,
   "metadata": {},
   "outputs": [
    {
     "name": "stdout",
     "output_type": "stream",
     "text": [
      "{'Jibran': 'Cat'}\n",
      "{'Moin': 'Birds'}\n",
      "{'shahzaib': 'Dog'}\n",
      "{'Asad': 'Cow'}\n"
     ]
    }
   ],
   "source": [
    "cat = {'Jibran': \"Cat\"}\n",
    "birds = {'Moin': \"Birds\"}\n",
    "dog = {'shahzaib': \"Dog\"}\n",
    "cow = {'Asad': \"Cow\"}\n",
    "\n",
    "pets = [cat,birds,dog,cow]\n",
    "for pet in pets:\n",
    "    print(pet)"
   ]
  }
 ],
 "metadata": {
  "kernelspec": {
   "display_name": "Python 3",
   "language": "python",
   "name": "python3"
  },
  "language_info": {
   "codemirror_mode": {
    "name": "ipython",
    "version": 3
   },
   "file_extension": ".py",
   "mimetype": "text/x-python",
   "name": "python",
   "nbconvert_exporter": "python",
   "pygments_lexer": "ipython3",
   "version": "3.7.3"
  }
 },
 "nbformat": 4,
 "nbformat_minor": 2
}
