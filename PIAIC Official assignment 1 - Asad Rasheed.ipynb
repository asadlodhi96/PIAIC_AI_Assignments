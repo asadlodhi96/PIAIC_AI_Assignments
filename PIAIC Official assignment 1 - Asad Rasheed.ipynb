{
 "cells": [
  {
   "cell_type": "markdown",
   "metadata": {},
   "source": [
    "## 1. Calculate Area of a Circle"
   ]
  },
  {
   "cell_type": "markdown",
   "metadata": {},
   "source": [
    "#### Write a Python program which accepts the radius of a circle from the user and compute the area.\n",
    "###### Program Console Sample Output 1:\n",
    "###### Input Radius: 0.5\n",
    "###### Area of Circle with radius 0.5 is 0.7853981634"
   ]
  },
  {
   "cell_type": "code",
   "execution_count": 24,
   "metadata": {},
   "outputs": [
    {
     "name": "stdout",
     "output_type": "stream",
     "text": [
      "Enter Radius of circle = 0.5\n",
      "Area of circle is 0.7853981634\n"
     ]
    }
   ],
   "source": [
    "from math import pi\n",
    "rad = float(input(\"Enter Radius of circle = \"))\n",
    "area = pi*rad*rad\n",
    "print(f\"Area of circle is {round(area,10)}\")"
   ]
  },
  {
   "cell_type": "markdown",
   "metadata": {},
   "source": [
    "## 2. Check Number either positive, negative or zero"
   ]
  },
  {
   "cell_type": "markdown",
   "metadata": {},
   "source": [
    "#### Write a Python program to check if a number is positive, negative or zero\n",
    "###### Program Console Sample Output 1:\n",
    "###### Enter Number: -1\n",
    "##### Negative Number Entered\n",
    "###### Program Console Sample Output 2:\n",
    "##### Integer: 3\n",
    "##### Positive Number Entered\n",
    "###### Program Console Sample Output 3:\n",
    "##### Integer: 0\n",
    "###### Zero Entered"
   ]
  },
  {
   "cell_type": "code",
   "execution_count": 10,
   "metadata": {},
   "outputs": [
    {
     "name": "stdout",
     "output_type": "stream",
     "text": [
      "Enter a number either Positive , negative or zero = 0\n",
      "Zero Entered\n"
     ]
    }
   ],
   "source": [
    "num = float(input(\"Enter a number either Positive , negative or zero = \"))\n",
    "if num > 0:\n",
    "    print(\"Positive Number Entered\")\n",
    "elif num < 0:\n",
    "    print(\"Negative Number Entered\")\n",
    "elif num == 0:\n",
    "    print(\"Zero Entered\")"
   ]
  },
  {
   "cell_type": "markdown",
   "metadata": {},
   "source": [
    "## 3. Divisibility Check of two numbers"
   ]
  },
  {
   "cell_type": "markdown",
   "metadata": {},
   "source": [
    "#### Write a Python program to check whether a number is completely divisible by another number. Accept two integer values form the user\n",
    "##### Program Console Sample Output 1:\n",
    "###### Enter numerator: 4\n",
    "###### Enter Denominator: 2\n",
    "##### Number 4 is Completely divisible by 2\n",
    "###### Program Console Sample Output 2:\n",
    "##### Enter numerator: 7\n",
    "\n",
    "##### Enter Denominator: 4\n",
    "###### Number 7 is not Completely divisible by 4"
   ]
  },
  {
   "cell_type": "code",
   "execution_count": 12,
   "metadata": {},
   "outputs": [
    {
     "name": "stdout",
     "output_type": "stream",
     "text": [
      "Enter Numerator = 7\n",
      "Enter Denominator = 4\n",
      "Number 7 is not Completely divisible by 4\n"
     ]
    }
   ],
   "source": [
    "numerator = int(input(\"Enter Numerator = \"))\n",
    "denominator = int(input(\"Enter Denominator = \"))\n",
    "if numerator % denominator == 0 :\n",
    "    print(f\"Number {numerator} is Completely divisible by {denominator}\")\n",
    "else:\n",
    "    print(f\"Number {numerator} is not Completely divisible by {denominator}\")"
   ]
  },
  {
   "cell_type": "markdown",
   "metadata": {},
   "source": [
    "## 4. Calculate Volume of a sphere"
   ]
  },
  {
   "cell_type": "markdown",
   "metadata": {},
   "source": [
    "##### Write a Python program to get the volume of a sphere, please take the radius as input from user"
   ]
  },
  {
   "cell_type": "markdown",
   "metadata": {},
   "source": [
    "##### Program Console Output:\n",
    "##### Enter Radius of Sphere: 1\n",
    "###### Volume of the Sphere with Radius 1 is 4.18"
   ]
  },
  {
   "cell_type": "code",
   "execution_count": 19,
   "metadata": {},
   "outputs": [
    {
     "name": "stdout",
     "output_type": "stream",
     "text": [
      "Enter radius of sphere = 1\n",
      "Volume of Sphere with Radius 1.0 is 4.189\n"
     ]
    }
   ],
   "source": [
    "rad = float(input(\"Enter radius of sphere = \"))\n",
    "vol = ((4/3)*3.142)*rad*rad*rad\n",
    "print(f\"Volume of Sphere with Radius {rad} is {round(vol,3)}\")"
   ]
  },
  {
   "cell_type": "markdown",
   "metadata": {},
   "source": [
    "## 5. Copy string n times\n",
    "#### Write a Python program to get a string which is n (non-negative integer) copies of a given string.\n",
    "##### Program Console Output:\n",
    "##### Enter String: Hi\n",
    "###### How many copies of String you need: 4\n",
    "###### 4 Copies of Hi are HiHiHiHi"
   ]
  },
  {
   "cell_type": "code",
   "execution_count": 20,
   "metadata": {},
   "outputs": [
    {
     "name": "stdout",
     "output_type": "stream",
     "text": [
      "Enter a String = Hi\n",
      "Enter a number greater than 0 to make copies of the string = 4\n",
      "4 copies of Hi are HiHiHiHi\n"
     ]
    }
   ],
   "source": [
    "inp = input(\"Enter a String = \")\n",
    "num = int(input(\"Enter a number greater than 0 to make copies of the string = \"))\n",
    "if num > 0:\n",
    "    print(f\"{num} copies of {inp} are {inp*num}\")\n",
    "else:\n",
    "    print(\"Please Enter a positive number !\")"
   ]
  },
  {
   "cell_type": "markdown",
   "metadata": {},
   "source": [
    "## 6. Check if number is Even or Odd\n",
    "### Write a Python program to find whether a given number (accept from the user) is even or odd, print out an appropriate message to the user\n",
    "#### Program Console Output 1:\n",
    "##### Enter Number: 4\n",
    "###### 4 is Even\n",
    "#### Program Console Output 2:\n",
    "##### Enter Number: 9\n",
    "###### 9 is Odd"
   ]
  },
  {
   "cell_type": "code",
   "execution_count": 22,
   "metadata": {},
   "outputs": [
    {
     "name": "stdout",
     "output_type": "stream",
     "text": [
      "Enter a number = 9\n",
      "9 is Odd\n"
     ]
    }
   ],
   "source": [
    "inp = int(input(\"Enter a number = \"))\n",
    "if inp % 2 == 0:\n",
    "    print(f\"{inp} is Even\")\n",
    "else:\n",
    "    print(f\"{inp} is Odd\")"
   ]
  },
  {
   "cell_type": "markdown",
   "metadata": {},
   "source": [
    "## 7. Vowel Tester\n",
    "### Write a Python program to test whether a passed letter is a vowel or not\n",
    "#### Program Console Output 1:\n",
    "##### Enter a character: A\n",
    "###### Letter A is Vowel\n",
    "#### Program Console Output 2:\n",
    "##### Enter a character: e\n",
    "###### Letter e is Vowel\n",
    "#### Program Console Output 2:\n",
    "##### Enter a character: N\n",
    "###### Letter N is not Vowel"
   ]
  },
  {
   "cell_type": "code",
   "execution_count": 25,
   "metadata": {},
   "outputs": [
    {
     "name": "stdout",
     "output_type": "stream",
     "text": [
      "Enter a Letter to check whether it is vowel or not = N\n",
      "Letter n is not Vowel\n"
     ]
    }
   ],
   "source": [
    "inp = input(\"Enter a Letter to check whether it is vowel or not = \").lower()\n",
    "if (inp == 'a' or inp == 'e' or inp == 'i' or inp == 'o' or inp == 'u'):\n",
    "    print(f\"Letter {inp} is Vowel\")\n",
    "else:\n",
    "    print(f\"Letter {inp} is not Vowel\")"
   ]
  },
  {
   "cell_type": "markdown",
   "metadata": {},
   "source": [
    "## 8. Triangle area\n",
    "### Write a Python program that will accept the base and height of a triangle and compute the area\n",
    "###### Reference:\n",
    "https://www.mathgoodies.com/lessons/vol1/area_triangle"
   ]
  },
  {
   "cell_type": "code",
   "execution_count": 26,
   "metadata": {},
   "outputs": [
    {
     "name": "stdout",
     "output_type": "stream",
     "text": [
      "Enter Base = 22\n",
      "Enter height = 22\n",
      "Area of Triangle is 242.0\n"
     ]
    }
   ],
   "source": [
    "base = float(input(\"Enter Base = \"))\n",
    "height = float(input(\"Enter height = \"))\n",
    "area = (base*height)/2\n",
    "print(f\"Area of Triangle is {area}\")"
   ]
  },
  {
   "cell_type": "markdown",
   "metadata": {},
   "source": [
    "## 9. Calculate Interest\n",
    "### Write a Python program to compute the future value of a specified principal amount, rate of interest, and a number of years\n",
    "#### Program Console Sample 1:\n",
    "##### Please enter principal amount: 10000\n",
    "###### Please Enter Rate of interest in %: 0.1\n",
    "###### Enter number of years for investment: 5\n",
    "###### After 5 years your principal amount 10000 over an interest rate of 0.1 % will be 16105.1"
   ]
  },
  {
   "cell_type": "code",
   "execution_count": 25,
   "metadata": {},
   "outputs": [
    {
     "name": "stdout",
     "output_type": "stream",
     "text": [
      "Please enter principal amount = 10000\n",
      "Please Enter Rate of interest in % = 0.1\n",
      "Enter number of years for investment = 5\n",
      "After 5.0 Years your principal amount 10000.0 Over an interest rate of 0.1 % Will be 16105.1\n"
     ]
    }
   ],
   "source": [
    "principal = float(input(\"Please enter principal amount = \"))\n",
    "rate = float(input(\"Please Enter Rate of interest in % = \"))\n",
    "#rate = rate * 100\n",
    "years = float(input(\"Enter number of years for investment = \"))\n",
    "interest = principal* ((1+ (rate)) ** years)\n",
    "print(f\"After {years} Years your principal amount {principal} Over an interest rate of {rate} % Will be {round(interest,2)}\")"
   ]
  },
  {
   "cell_type": "markdown",
   "metadata": {},
   "source": [
    "## 10. Euclidean distance\n",
    "### write a Python program to compute the distance between the points (x1, y1) and (x2, y2).\n",
    "#### Program Console Sample 1:\n",
    "###### Enter Co-ordinate for x1: 2\n",
    "###### Enter Co-ordinate for x2: 4\n",
    "###### Enter Co-ordinate for y1: 4\n",
    "###### Enter Co-ordinate for y2: 4\n",
    "###### Distance between points (2, 4) and (4, 4) is 2"
   ]
  },
  {
   "cell_type": "markdown",
   "metadata": {},
   "source": [
    "###### Reference:\n",
    "https://en.wikipedia.org/wiki/Euclidean_distance"
   ]
  },
  {
   "cell_type": "code",
   "execution_count": 1,
   "metadata": {},
   "outputs": [
    {
     "name": "stdout",
     "output_type": "stream",
     "text": [
      "Enter Co-ordinate of x1 =2\n",
      "Enter Co-ordinate of x2 =4\n",
      "Enter Co-ordinate of y1 =4\n",
      "Enter Co-ordinate of y2 =4\n",
      "The Distance between points: (2, 4) (4, 4) is 2.0\n"
     ]
    }
   ],
   "source": [
    "import math\n",
    "x1=int(input(\"Enter Co-ordinate of x1 =\"))\n",
    "x2=int(input(\"Enter Co-ordinate of x2 =\"))\n",
    "y1=int(input(\"Enter Co-ordinate of y1 =\"))\n",
    "y2=int(input(\"Enter Co-ordinate of y2 =\"))\n",
    "dist=((x2-x1)*(x2-x1)) + ((y2-y1)*(y2-y1))\n",
    "dist= math.sqrt(dist)\n",
    "print(\"The Distance between points:\",(x1,y1), (x2,y2), \"is\",round(dist,2))"
   ]
  },
  {
   "cell_type": "markdown",
   "metadata": {},
   "source": [
    "## 11. Feet to Centimeter Converter\n",
    "### Write a Python program to convert height in feet to centimetres.\n",
    "##### Program Console Sample 1:\n",
    "###### Enter Height in Feet: 5\n",
    "###### There are 152.4 Cm in 5 ft\n",
    "###### Reference:\n",
    "https://www.rapidtables.com/convert/length/feet-to-cm.html"
   ]
  },
  {
   "cell_type": "code",
   "execution_count": null,
   "metadata": {},
   "outputs": [],
   "source": [
    "# The distance d in centimeters (cm) is equal to the distance d in feet (ft) times 30.48:\n",
    "# d(cm) = d(ft) × 30.48\n",
    "# The distance d in feet (ft) is equal to the distance d in centimeters (cm) / 30.48:\n",
    "# d(ft) = d(cm) / 30.48"
   ]
  },
  {
   "cell_type": "code",
   "execution_count": 2,
   "metadata": {},
   "outputs": [
    {
     "name": "stdout",
     "output_type": "stream",
     "text": [
      "Enter Height in Feets = 5\n",
      "There are 152.4 Cm in 5.0 ft\n"
     ]
    }
   ],
   "source": [
    "height=float(input(\"Enter Height in Feets = \"))\n",
    "cm=height*30.48\n",
    "print(f\"There are {cm} Cm in {height} ft\")"
   ]
  },
  {
   "cell_type": "markdown",
   "metadata": {},
   "source": [
    "## 12. BMI Calculator\n",
    "### Write a Python program to calculate body mass index\n",
    "##### Program Console Sample 1:\n",
    "###### Enter Height in Cm: 180\n",
    "###### Enter Weight in Kg: 75\n",
    "###### Your BMI is 23.15"
   ]
  },
  {
   "cell_type": "code",
   "execution_count": 7,
   "metadata": {},
   "outputs": [
    {
     "name": "stdout",
     "output_type": "stream",
     "text": [
      "Enter Height in cm = 180\n",
      "Enter Weight in Kg = 75\n",
      "Your BMI is 23.15\n"
     ]
    }
   ],
   "source": [
    "## BMI Formula = weight/hight^2\n",
    "height = float(input(\"Enter Height in cm = \"))\n",
    "height /= 100\n",
    "weight = float(input(\"Enter Weight in Kg = \"))\n",
    "bmi = weight / (height * height)\n",
    "print(f\"Your BMI is {round(bmi,2)}\")"
   ]
  },
  {
   "cell_type": "markdown",
   "metadata": {},
   "source": [
    "## 13. Sum of n Positive Integers\n",
    "### Write a python program to sum of the first n positive integers\n",
    "#### Program Console Sample 1:\n",
    "###### Enter value of n: 5\n",
    "###### Sum of n Positive integers till 5 is 15"
   ]
  },
  {
   "cell_type": "code",
   "execution_count": 10,
   "metadata": {},
   "outputs": [
    {
     "name": "stdout",
     "output_type": "stream",
     "text": [
      "Enter value of n = 5\n",
      "Sum of n Positive integers till 5 is 15\n"
     ]
    }
   ],
   "source": [
    "n = int(input(\"Enter value of n = \"))\n",
    "sum = 0\n",
    "for i in range (1,n+1):\n",
    "    sum +=i\n",
    "print(f\"Sum of n Positive integers till {n} is {sum}\")"
   ]
  },
  {
   "cell_type": "markdown",
   "metadata": {},
   "source": [
    "## 14. Digits Sum of a Number\n",
    "### Write a Python program to calculate the sum of the digits in an integer\n",
    "#### Program Console Sample 1:\n",
    "##### Enter a number: 15\n",
    "###### Sum of 1 + 5 is 6\n",
    "#### Program Console Sample 2:\n",
    "##### Enter a number: 1234\n",
    "###### Sum of 1 + 2 + 3 + 4 is 10"
   ]
  },
  {
   "cell_type": "code",
   "execution_count": 23,
   "metadata": {},
   "outputs": [
    {
     "name": "stdout",
     "output_type": "stream",
     "text": [
      "Enter Number = 1234\n",
      "Sum of 1 + 2 + 3 is 4 is 10\n"
     ]
    }
   ],
   "source": [
    "res = 0\n",
    "inp = input(\"Enter Number = \")\n",
    "print(\"Sum of \",end='')\n",
    "for i in range (0,len(inp)):\n",
    "    if (i>0 and i<len(inp)-2) or (i == 0):\n",
    "        print(f\"{inp[i]} + \",end='')\n",
    "    elif (i>0 and i<len(inp)):\n",
    "        print(f\"{inp[i]} is \",end='')\n",
    "    res+=int(inp[i])\n",
    "print(res)"
   ]
  }
 ],
 "metadata": {
  "kernelspec": {
   "display_name": "Python 3",
   "language": "python",
   "name": "python3"
  },
  "language_info": {
   "codemirror_mode": {
    "name": "ipython",
    "version": 3
   },
   "file_extension": ".py",
   "mimetype": "text/x-python",
   "name": "python",
   "nbconvert_exporter": "python",
   "pygments_lexer": "ipython3",
   "version": "3.7.3"
  }
 },
 "nbformat": 4,
 "nbformat_minor": 2
}
